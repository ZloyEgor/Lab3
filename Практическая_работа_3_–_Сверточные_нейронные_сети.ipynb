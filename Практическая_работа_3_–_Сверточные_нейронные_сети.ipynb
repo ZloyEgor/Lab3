{
  "nbformat": 4,
  "nbformat_minor": 0,
  "metadata": {
    "colab": {
      "name": "Практическая работа 3 – Сверточные нейронные сети.ipynb",
      "provenance": [],
      "collapsed_sections": [],
      "include_colab_link": true
    },
    "kernelspec": {
      "name": "python3",
      "display_name": "Python 3"
    },
    "language_info": {
      "name": "python"
    },
    "accelerator": "GPU"
  },
  "cells": [
    {
      "cell_type": "markdown",
      "metadata": {
        "id": "view-in-github",
        "colab_type": "text"
      },
      "source": [
        "<a href=\"https://colab.research.google.com/github/ZloyEgor/Lab3/blob/master/%D0%9F%D1%80%D0%B0%D0%BA%D1%82%D0%B8%D1%87%D0%B5%D1%81%D0%BA%D0%B0%D1%8F_%D1%80%D0%B0%D0%B1%D0%BE%D1%82%D0%B0_3_%E2%80%93_%D0%A1%D0%B2%D0%B5%D1%80%D1%82%D0%BE%D1%87%D0%BD%D1%8B%D0%B5_%D0%BD%D0%B5%D0%B9%D1%80%D0%BE%D0%BD%D0%BD%D1%8B%D0%B5_%D1%81%D0%B5%D1%82%D0%B8.ipynb\" target=\"_parent\"><img src=\"https://colab.research.google.com/assets/colab-badge.svg\" alt=\"Open In Colab\"/></a>"
      ]
    },
    {
      "cell_type": "markdown",
      "metadata": {
        "id": "PJHy7vziiPnC"
      },
      "source": [
        "# Классификация цветов с помощью свёрточных нейронных сетей.\n",
        "\n",
        "\n",
        "В работе необходимо познакомится с различными архитектурами сверхточных нейронных сетей и их обучением на GPU (англ. graphics processing, графический процессор) на языке программирования Python 3 и фреймворка Torch (PyTorch).  Для этого предлагается использовать ресурсы Google Colab - Colaboratory, для выполнения вычислений на GPU. После с ознакомления, выполнить практическое задане в конце данной тетради (notebook).\n",
        "\n",
        "Рассмотрим [Датасет](https://www.kaggle.com/alxmamaev/flowers-recognition ) содержащий 4242 изображения цветов размеченных по 5 видам (тюльпан, ромашка, подсолнух, роза, одуванчик). Данный набор данных можно скачать по [ссылке](https://www.kaggle.com/alxmamaev/flowers-recognition ) с сайте kaggle.\n",
        "\n",
        "Загрузите папку с картинками на гугл диск, чтобы не загружать ее каждый раз заново при перезапуске колаба. Структура файлов (можно посмотреть в меню слева) может быть такой: \"/content/drive/My Drive/data/flowers\".\n",
        "Обязательно подключите аппаратный ускоритель (GPU) к среде выполнения, чтобы вычисления были. В меню сверху: Среда выполнения -> Сменить среду выполнения\n",
        "\n",
        "Первым делом разберите более детально код выполнив код ниже."
      ]
    },
    {
      "cell_type": "markdown",
      "metadata": {
        "id": "eRteSKZ5VKai"
      },
      "source": [
        "# Подготовка"
      ]
    },
    {
      "cell_type": "markdown",
      "metadata": {
        "id": "bXtAgtr2V3u6"
      },
      "source": [
        "Загружаем библиотеки. Фиксируем random.seed для воспроизводимости"
      ]
    },
    {
      "cell_type": "code",
      "metadata": {
        "id": "kvM84NDjxCnK"
      },
      "source": [
        "import numpy as np # linear algebra\n",
        "import os\n",
        "import torch\n",
        "import torchvision\n",
        "from torchvision.datasets.utils import download_url\n",
        "from torch.utils.data import random_split\n",
        "from torchvision.datasets import ImageFolder\n",
        "from torchvision import transforms\n",
        "from torchvision.transforms import ToTensor\n",
        "from torch.utils.data.dataloader import DataLoader\n",
        "import torch.nn as nn\n",
        "import torch.nn.functional as F\n",
        "import random\n",
        "from tqdm import tqdm\n",
        "import matplotlib.pyplot as plt\n",
        "\n",
        "random.seed(0)\n",
        "torch.manual_seed(0)"
      ],
      "execution_count": null,
      "outputs": []
    },
    {
      "cell_type": "markdown",
      "metadata": {
        "id": "YjYDp6nXWWmQ"
      },
      "source": [
        "Выбираем на чем будем делать вычисления - CPU или GPU (cuda)"
      ]
    },
    {
      "cell_type": "code",
      "metadata": {
        "id": "FzyQGtNfzMsI",
        "cellView": "code"
      },
      "source": [
        "device = 'cuda' if torch.cuda.is_available() else 'cpu' \n",
        "print(device)"
      ],
      "execution_count": null,
      "outputs": []
    },
    {
      "cell_type": "code",
      "metadata": {
        "id": "NrcMAZywKnKK"
      },
      "source": [
        "from google.colab import drive\n",
        "\n",
        "drive.mount('/content/drive', force_remount=True)\n",
        "\n",
        "FOLDERNAME = 'data/flowers'\n",
        "\n",
        "assert FOLDERNAME is not None, \"[!] Enter the foldername.\"\n",
        "\n",
        "%cd drive/My\\ Drive\n",
        "#%cp -r $FOLDERNAME ../../\n",
        "#%cd ../../\n",
        "%cd data/flowers/\n",
        "#!bash get_datasets.sh\n",
        "#%cd ../../"
      ],
      "execution_count": null,
      "outputs": []
    },
    {
      "cell_type": "code",
      "metadata": {
        "id": "aV-txOlLyJhK"
      },
      "source": [
        "prepare_imgs = torchvision.transforms.Compose(\n",
        "    [\n",
        "        torchvision.transforms.Resize((224, 224)), #приводим картинки к одному размеру\n",
        "        torchvision.transforms.ToTensor(), # упаковывем их в тензор\n",
        "        torchvision.transforms.Normalize(\n",
        "            mean=[0.485, 0.456, 0.406], std=[0.229, 0.224, 0.225] # нормализуем картинки по каналам\n",
        "        ),\n",
        "    ]\n",
        ")\n",
        "# задаем датасет. Лейблы - имена папок: \n",
        "dataset = ImageFolder('/content/drive/My Drive/data/flowers', transform=prepare_imgs)"
      ],
      "execution_count": null,
      "outputs": []
    },
    {
      "cell_type": "code",
      "metadata": {
        "id": "BcuefCcB8iwi"
      },
      "source": [
        "dataset.imgs[2]"
      ],
      "execution_count": null,
      "outputs": []
    },
    {
      "cell_type": "code",
      "metadata": {
        "id": "u_DuonGn5HVb"
      },
      "source": [
        "class ValueMeter(object):\n",
        "  \"\"\"\n",
        "  Вспомогательный класс, чтобы отслеживать loss и метрику\n",
        "  \"\"\"\n",
        "  def __init__(self):\n",
        "      self.sum = 0\n",
        "      self.total = 0\n",
        "\n",
        "  def add(self, value, n):\n",
        "      self.sum += value*n\n",
        "      self.total += n\n",
        "\n",
        "  def value(self):\n",
        "      return self.sum/self.total\n",
        "\n",
        "def log(mode, epoch, loss_meter, accuracy_meter, best_perf=None):\n",
        "  \"\"\"\n",
        "  Вспомогательная функция, чтобы \n",
        "  \"\"\"\n",
        "  print(\n",
        "      f\"[{mode}] Epoch: {epoch:0.2f}. \"\n",
        "      f\"Loss: {loss_meter.value():.2f}. \"\n",
        "      f\"Accuracy: {100*accuracy_meter.value():.2f}% \", end=\"\\n\")\n",
        "\n",
        "  if best_perf:\n",
        "      print(f\"[best: {best_perf:0.2f}]%\", end=\"\")\n"
      ],
      "execution_count": null,
      "outputs": []
    },
    {
      "cell_type": "markdown",
      "metadata": {
        "id": "6rhIMxkeVTGj"
      },
      "source": [
        "# Сверточная нейросеть с нуля\n",
        "\n",
        "## Вручную прописываем слои"
      ]
    },
    {
      "cell_type": "code",
      "metadata": {
        "id": "IeRibccoyT_A"
      },
      "source": [
        "model = nn.Sequential(\n",
        "            nn.Conv2d(in_channels=3, out_channels=32, kernel_size=3, stride=1, padding=1),\n",
        "            nn.ReLU(),\n",
        "            nn.Conv2d(32, 64, kernel_size=3, stride=1, padding=1),\n",
        "            nn.ReLU(),\n",
        "            nn.MaxPool2d(2, 2), # output: 64 x 16 x 16\n",
        "\n",
        "            nn.Conv2d(64, 128, kernel_size=3, stride=1, padding=1),\n",
        "            nn.ReLU(),\n",
        "            nn.Conv2d(128, 128, kernel_size=3, stride=1, padding=1),\n",
        "            nn.ReLU(),\n",
        "            nn.MaxPool2d(2, 2), # output: 128 x 8 x 8\n",
        "\n",
        "            nn.Conv2d(128, 256, kernel_size=3, stride=1, padding=1),\n",
        "            nn.ReLU(),\n",
        "            nn.Conv2d(256, 256, kernel_size=3, stride=1, padding=1),\n",
        "            nn.ReLU(),\n",
        "            nn.MaxPool2d(2, 2), # output: 256 x 4 x 4\n",
        "\n",
        "            nn.Flatten(), \n",
        "            nn.Linear(256*28*28, 1024),\n",
        "            nn.ReLU(),\n",
        "            nn.Linear(1024, 512),\n",
        "            nn.ReLU(),\n",
        "            nn.Linear(512, 5))\n",
        "model.to(device) # отправляем модель на девайс (GPU)"
      ],
      "execution_count": null,
      "outputs": []
    },
    {
      "cell_type": "markdown",
      "metadata": {
        "id": "BAA16XH3YbLI"
      },
      "source": [
        "Задаем гиперпараметры для обучения:"
      ]
    },
    {
      "cell_type": "markdown",
      "metadata": {
        "id": "JP0M3cL8ZDd3"
      },
      "source": [
        "# Задаем параметры и функцию для обучения. Разбиваем датасет на train/validation"
      ]
    },
    {
      "cell_type": "code",
      "metadata": {
        "id": "iwhX2vdquink"
      },
      "source": [
        "batch_size = 32 # размер батча\n",
        "optimizer = torch.optim.Adam(params = model.parameters()) # алгоритм оптимизации\n",
        "lr = 0.001 # learning rate"
      ],
      "execution_count": null,
      "outputs": []
    },
    {
      "cell_type": "markdown",
      "metadata": {
        "id": "IG0zjMWDYu32"
      },
      "source": [
        "Разбиваем датасет на train и validation\n",
        "\n",
        "Задаем dataloader'ы - объекты для итеративной загрузки данных и лейблов для обучения и валидации"
      ]
    },
    {
      "cell_type": "code",
      "metadata": {
        "id": "D2AW1YTupITs"
      },
      "source": [
        "train_set, val_set = torch.utils.data.random_split(dataset, [len(dataset)-1000, 1000])\n",
        "print('Размер обучающего и валидационного датасета: ', len(train_set), len(val_set))\n",
        "loaders = {'training': DataLoader(train_set, batch_size, pin_memory=True,num_workers=2, shuffle=True),\n",
        "           'validation':DataLoader(val_set, batch_size, pin_memory=True,num_workers=2, shuffle=False)}"
      ],
      "execution_count": null,
      "outputs": []
    },
    {
      "cell_type": "markdown",
      "metadata": {
        "id": "NuiJKWrYZZgb"
      },
      "source": [
        "Функция для подсчета Accuracy"
      ]
    },
    {
      "cell_type": "code",
      "metadata": {
        "id": "xm15u4TsDcIY"
      },
      "source": [
        "def accuracy(outputs, labels):\n",
        "    _, preds = torch.max(outputs, dim=1)\n",
        "    return torch.tensor(torch.sum(preds == labels).item() / len(preds))"
      ],
      "execution_count": null,
      "outputs": []
    },
    {
      "cell_type": "markdown",
      "metadata": {
        "id": "MzW60Io-riGV"
      },
      "source": [
        "Функция для обучения и валидации модели"
      ]
    },
    {
      "cell_type": "code",
      "metadata": {
        "id": "hdlXyjEGhU4W"
      },
      "source": [
        "def trainval(model, loaders, optimizer, epochs=10):\n",
        "    \"\"\"\n",
        "    model: модель, которую собираемся обучать\n",
        "    loaders: dict с dataloader'ами для обучения и валидации\n",
        "    optimizer: оптимизатор\n",
        "    epochs: число обучающих эпох (сколько раз пройдемся по всему датасету)\n",
        "    \"\"\"\n",
        "    loss_meter = {'training': ValueMeter(), 'validation': ValueMeter()}\n",
        "    accuracy_meter = {'training': ValueMeter(), 'validation': ValueMeter()}\n",
        "\n",
        "    loss_track = {'training': [], 'validation': []}\n",
        "    accuracy_track = {'training': [], 'validation': []}\n",
        "\n",
        "    for epoch in range(epochs): # итерации по эпохам\n",
        "        for mode in ['training', 'validation']: # обучение - валидация\n",
        "            # считаем градиаент только при обучении:\n",
        "            with torch.set_grad_enabled(mode == 'training'):\n",
        "                # в зависимоти от фазы переводим модель в нужный ружим:\n",
        "                model.train() if mode == 'training' else model.eval()\n",
        "                for imgs, labels in tqdm(loaders[mode]):\n",
        "                    imgs = imgs.to(device) # отправляем тензор на GPU\n",
        "                    labels = labels.to(device) \n",
        "                    bs = labels.shape[0]  # размер батча (отличается для последнего батча в лоадере)\n",
        "\n",
        "                    preds = model(imgs) # forward pass - прогоняем тензор с картинками через модель\n",
        "                    loss = F.cross_entropy(preds, labels) # считаем функцию потерь\n",
        "                    acc = accuracy(preds, labels) # считаем метрику\n",
        "\n",
        "                    # храним loss и accuracy для батча\n",
        "                    loss_meter[mode].add(loss.item(), bs)\n",
        "                    accuracy_meter[mode].add(acc, bs)\n",
        "\n",
        "                    # если мы в фазе обучения\n",
        "                    if mode == 'training':\n",
        "                        optimizer.zero_grad() # обнуляем прошлый градиент\n",
        "                        loss.backward() # делаем backward pass (считаем градиент)\n",
        "                        optimizer.step() # обновляем веса\n",
        "            # в конце фазы выводим значения loss и accuracy\n",
        "            log(mode, epoch, loss_meter[mode], accuracy_meter[mode])\n",
        "\n",
        "            # сохраняем результаты по всем эпохам\n",
        "            loss_track[mode].append(loss_meter[mode].value())\n",
        "            accuracy_track[mode].append(accuracy_meter[mode].value())\n",
        "    return loss_track, accuracy_track             "
      ],
      "execution_count": null,
      "outputs": []
    },
    {
      "cell_type": "markdown",
      "metadata": {
        "id": "DMhG1AtAau9k"
      },
      "source": [
        "# Обучаем базовую модель"
      ]
    },
    {
      "cell_type": "markdown",
      "metadata": {
        "id": "UnDPDjYuxMAi"
      },
      "source": [
        "Проверим загрузку видеокарты, прежде чем запустить обучение:"
      ]
    },
    {
      "cell_type": "code",
      "metadata": {
        "id": "5rZE3wkq045i"
      },
      "source": [
        "!nvidia-smi"
      ],
      "execution_count": null,
      "outputs": []
    },
    {
      "cell_type": "markdown",
      "metadata": {
        "id": "YAT9SPrzxZH7"
      },
      "source": [
        "Запускаем обучение на 10 эпох"
      ]
    },
    {
      "cell_type": "code",
      "metadata": {
        "id": "czmf2yVKvEYY"
      },
      "source": [
        "loss_track, accuracy_track = trainval(model, loaders, optimizer, epochs=10)"
      ],
      "execution_count": null,
      "outputs": []
    },
    {
      "cell_type": "code",
      "metadata": {
        "id": "UAmfxowdRLfQ"
      },
      "source": [
        "from matplotlib import pyplot as plt\n",
        "%matplotlib inline\n",
        "plt.plot(accuracy_track['training'], label='training')\n",
        "plt.plot(accuracy_track['validation'], label='validation')\n",
        "plt.ylabel('accuracy')\n",
        "plt.xlabel('epoch')\n",
        "plt.grid()\n",
        "plt.legend()"
      ],
      "execution_count": null,
      "outputs": []
    },
    {
      "cell_type": "markdown",
      "metadata": {
        "id": "PW8RyMJtztV7"
      },
      "source": [
        "# Fine-tuning предобученной модели"
      ]
    },
    {
      "cell_type": "markdown",
      "metadata": {
        "id": "tN223XkFxfJk"
      },
      "source": [
        "Теперь попробуем поработать с предобученной сетью ResNet-18"
      ]
    },
    {
      "cell_type": "markdown",
      "metadata": {
        "id": "Faja0O5n0DT5"
      },
      "source": [
        "![image.png](data:image/png;base64,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)"
      ]
    },
    {
      "cell_type": "code",
      "metadata": {
        "id": "Sz5w50A6akrO"
      },
      "source": [
        "resnet = torchvision.models.resnet18(pretrained=True) # инициализируем модель\n",
        "resnet"
      ],
      "execution_count": null,
      "outputs": []
    },
    {
      "cell_type": "code",
      "metadata": {
        "id": "KJFCbGkObf_4"
      },
      "source": [
        "def set_parameter_requires_grad(model):\n",
        "  \"\"\"\n",
        "  Функция для заморозки весов модели\n",
        "  \"\"\"\n",
        "  for param in model.parameters():\n",
        "    param.requires_grad = False\n",
        "            \n",
        "set_parameter_requires_grad(resnet)"
      ],
      "execution_count": null,
      "outputs": []
    },
    {
      "cell_type": "code",
      "metadata": {
        "id": "8ssE3WaUgjGY"
      },
      "source": [
        "# Меняем последний слой модели, чтобы он предсказывал 5 классов, а не 1000\n",
        "# Когда мы заново определяем слой, у него по умолчанию стоит аттрибут requires_grad = True\n",
        "# То есть этот полносвязный слой будет обучаться\n",
        "resnet.fc = nn.Linear(512, 5)"
      ],
      "execution_count": null,
      "outputs": []
    },
    {
      "cell_type": "code",
      "metadata": {
        "id": "JfbUjMl7bzZT"
      },
      "source": [
        "# Проверим все ли сработало правильно, выведем веса, которые будут обучаться\n",
        "for name, param in resnet.named_parameters():\n",
        "    if param.requires_grad:\n",
        "        print(name)"
      ],
      "execution_count": null,
      "outputs": []
    },
    {
      "cell_type": "markdown",
      "metadata": {
        "id": "Dvk1fP_5zFux"
      },
      "source": [
        "Запустим функцию обучения модели. Внимание - необходимо заново задать оптимизатор, чтобы он теперь работал с весами resnet"
      ]
    },
    {
      "cell_type": "code",
      "metadata": {
        "id": "T9Hg7HO8e6N5"
      },
      "source": [
        "resnet.to(device)\n",
        "optimizer = torch.optim.Adam(params = resnet.parameters()) # алгоритм оптимизации\n",
        "loss_track, accuracy_track = trainval(resnet, loaders, optimizer, epochs=5)"
      ],
      "execution_count": null,
      "outputs": []
    },
    {
      "cell_type": "code",
      "metadata": {
        "id": "YGY6SiINS1X4"
      },
      "source": [
        "plt.plot(accuracy_track['training'], label='training')\n",
        "plt.plot(accuracy_track['validation'], label='validation')\n",
        "plt.ylabel('accuracy')\n",
        "plt.xlabel('epoch')\n",
        "plt.grid()\n",
        "plt.legend()"
      ],
      "execution_count": null,
      "outputs": []
    },
    {
      "cell_type": "markdown",
      "metadata": {
        "id": "FwZlMBYMzYcy"
      },
      "source": [
        "Сохраним веса модели:"
      ]
    },
    {
      "cell_type": "code",
      "metadata": {
        "id": "-Cq96h2HfJ_G"
      },
      "source": [
        "weights_fname = '/content/drive/My Drive/data/flower-resnet.pth'\n",
        "torch.save(resnet.state_dict(), weights_fname)"
      ],
      "execution_count": null,
      "outputs": []
    },
    {
      "cell_type": "markdown",
      "metadata": {
        "id": "C6ezB9ctz8Ic"
      },
      "source": [
        "# Смотрим результат"
      ]
    },
    {
      "cell_type": "markdown",
      "metadata": {
        "id": "OVYY4_-O0hxV"
      },
      "source": [
        "И посмотрим как модель предсказывает"
      ]
    },
    {
      "cell_type": "code",
      "metadata": {
        "id": "FvmpFyMUot4p"
      },
      "source": [
        "import matplotlib.pyplot as plt\n",
        "%matplotlib inline\n",
        "import warnings\n",
        "warnings.filterwarnings(\"ignore\")\n",
        "\n",
        "def predict_image(img, model):\n",
        "    # Преобразование to a batch of 1\n",
        "    xb = img.unsqueeze(0).to(device)\n",
        "    # Получение прогнозов от модели\n",
        "    yb = model(xb)\n",
        "    # Выбираем индекс с наибольшей вероятностью\n",
        "    _, preds  = torch.max(yb, dim=1)\n",
        "    # Получение метки класса\n",
        "    return dataset.classes[preds[0].item()]\n",
        "\n",
        "for i in range(1,10):\n",
        "  img, label = val_set[i]\n",
        "  plt.imshow(img.clip(0,1).permute(1, 2, 0))\n",
        "  plt.axis('off')\n",
        "  plt.title('Label: {}, Predicted: {}'.format(dataset.classes[label],predict_image(img, resnet)))\n",
        "  plt.show()\n",
        "  # print('Label:', dataset.classes[label], ',Predicted:', predict_image(img, resnet))"
      ],
      "execution_count": null,
      "outputs": []
    },
    {
      "cell_type": "markdown",
      "metadata": {
        "id": "-rtKZrQF0oma"
      },
      "source": [
        "# Практическое задание "
      ]
    },
    {
      "cell_type": "markdown",
      "metadata": {
        "id": "27qiLUtR011m"
      },
      "source": [
        "В пракическом задание необходимо обучить еще одну сверточную архитектуру для задач классификации цветов. \n",
        "\n",
        "В выбранной Вами архитектуре также необходимо разобраться с основными её параметрами и принципами работы.\n",
        "\n",
        "Посмотрите как использовать [модели в PyTorch](https://pytorch.org/vision/stable/models.html), выберите одну и используя transfer learning до-обучите модель на классификацию цветов. Чтобы это сделать замените ____ в ячейках ниже на работающий код.\n",
        "\n",
        "\n"
      ]
    },
    {
      "cell_type": "code",
      "metadata": {
        "id": "fZGKQ77DqT31"
      },
      "source": [
        "# Выберите модель из списка доступных в PyTorch моделей\n",
        "# Не забудьте указать, что она модель должна быть предобучена!\n",
        "model = torchvision.models.googlenet()\n",
        "model"
      ],
      "execution_count": null,
      "outputs": []
    },
    {
      "cell_type": "code",
      "metadata": {
        "id": "0zVgqf7x4aOo"
      },
      "source": [
        "set_parameter_requires_grad(_____) # передайте модель в функцию для \"заморозки\" градиента"
      ],
      "execution_count": null,
      "outputs": []
    },
    {
      "cell_type": "code",
      "metadata": {
        "id": "wXqwU5Rd5DYs"
      },
      "source": [
        "model._____ = _____# Меняем последний слой модели"
      ],
      "execution_count": null,
      "outputs": []
    },
    {
      "cell_type": "code",
      "metadata": {
        "id": "IaquxdRWJ_LK"
      },
      "source": [
        "# Проверим все ли сработало правильно, выведем веса, которые будут обучаться\n",
        "for name, param in model.named_parameters():\n",
        "    if param.requires_grad:\n",
        "        print(name)"
      ],
      "execution_count": null,
      "outputs": []
    },
    {
      "cell_type": "code",
      "metadata": {
        "id": "DTE0EUG9lh5g"
      },
      "source": [
        "model.to(_____) # Отправляем модель на GPU\n",
        "optimizer = torch.optim.Adam(params = model.parameters()) # алгоритм оптимизации\n",
        "loss_track, accuracy_track = trainval(resnet, loaders, optimizer, epochs=_____) # запускаем обучение"
      ],
      "execution_count": null,
      "outputs": []
    },
    {
      "cell_type": "code",
      "metadata": {
        "id": "3npGmGBsoZfe"
      },
      "source": [
        "plt.plot(accuracy_track['training'], label='training')\n",
        "plt.plot(accuracy_track['validation'], label='validation')\n",
        "plt.ylabel('accuracy')\n",
        "plt.xlabel('epoch')\n",
        "plt.grid()\n",
        "plt.legend()"
      ],
      "execution_count": null,
      "outputs": []
    },
    {
      "cell_type": "code",
      "metadata": {
        "id": "atswap6Qojha"
      },
      "source": [
        "import matplotlib.pyplot as plt\n",
        "%matplotlib inline\n",
        "import warnings\n",
        "warnings.filterwarnings(\"ignore\")\n",
        "\n",
        "def predict_image(img, model):\n",
        "    # Преобразование to a batch of 1\n",
        "    xb = img.unsqueeze(0).to(device)\n",
        "    # Получение прогнозов от модели\n",
        "    yb = model(xb)\n",
        "    # Выбираем индекс с наибольшей вероятностью\n",
        "    _, preds  = torch.max(yb, dim=1)\n",
        "    # Получение метки класса\n",
        "    return dataset.classes[preds[0].item()]\n",
        "\n",
        "for i in range(1,10):\n",
        "  img, label = val_set[i]\n",
        "  plt.imshow(img.clip(0,1).permute(1, 2, 0))\n",
        "  plt.axis('off')\n",
        "  plt.title('Label: {}, Predicted: {}'.format(dataset.classes[label],predict_image(img, _____)))\n",
        "  plt.show()\n",
        "  # print('Label:', dataset.classes[label], ',Predicted:', predict_image(img, ______))"
      ],
      "execution_count": null,
      "outputs": []
    },
    {
      "cell_type": "markdown",
      "metadata": {
        "id": "n0zHu9uIo1Df"
      },
      "source": [
        "По желанию, можно сохранить веса модели."
      ]
    },
    {
      "cell_type": "code",
      "metadata": {
        "id": "jC6KLbr5pBjd"
      },
      "source": [
        "weights_fname = '/content/drive/My Drive/data/***___**.pth'\n",
        "torch.save(____.state_dict(), weights_fname)"
      ],
      "execution_count": null,
      "outputs": []
    },
    {
      "cell_type": "markdown",
      "metadata": {
        "id": "aEwPBvRvkASl"
      },
      "source": [
        "## Вопросы.\n",
        "\n",
        "Как работает выбранная вами модель сверточной нейронной сети? Какие параметры?\n",
        "\n",
        "В чем основные отличия между сверточной нейронной сетью и \"обычной\" полносвязной нейронной сетью?\n",
        "\n",
        "Что такое transfer learning?\n",
        "\n",
        "Что такое функция для заморозки весов модели?\n"
      ]
    }
  ]
}